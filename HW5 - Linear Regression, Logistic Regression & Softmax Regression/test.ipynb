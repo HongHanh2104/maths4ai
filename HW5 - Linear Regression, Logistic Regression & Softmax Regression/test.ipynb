{
 "cells": [
  {
   "cell_type": "code",
   "execution_count": 5,
   "id": "c3927411",
   "metadata": {},
   "outputs": [],
   "source": [
    "from sklearn.datasets import load_boston\n",
    "from sklearn.model_selection import train_test_split"
   ]
  },
  {
   "cell_type": "code",
   "execution_count": 3,
   "id": "2ea91cb7",
   "metadata": {},
   "outputs": [],
   "source": [
    "from linear_regression import linear_regression\n",
    "from linear_regression_pytorch import LinearRegression"
   ]
  },
  {
   "cell_type": "markdown",
   "id": "18acb045",
   "metadata": {},
   "source": [
    "# Load test data"
   ]
  },
  {
   "cell_type": "code",
   "execution_count": 4,
   "id": "736905cc",
   "metadata": {},
   "outputs": [],
   "source": [
    "data = load_boston()"
   ]
  },
  {
   "cell_type": "code",
   "execution_count": 6,
   "id": "0aaee677",
   "metadata": {},
   "outputs": [],
   "source": [
    "X_train, X_test, y_train, y_test = train_test_split(data.data, data.target, test_size=0.2)"
   ]
  },
  {
   "cell_type": "code",
   "execution_count": 8,
   "id": "29fccbf1",
   "metadata": {},
   "outputs": [
    {
     "data": {
      "text/plain": [
       "((404, 13), (404,))"
      ]
     },
     "execution_count": 8,
     "metadata": {},
     "output_type": "execute_result"
    }
   ],
   "source": [
    "X_train.shape, y_train.shape"
   ]
  },
  {
   "cell_type": "markdown",
   "id": "b84ccd52",
   "metadata": {},
   "source": [
    "# Parameters Initialization"
   ]
  },
  {
   "cell_type": "code",
   "execution_count": 9,
   "id": "695b1187",
   "metadata": {},
   "outputs": [],
   "source": [
    "lr = 0.01\n",
    "steps = 100000"
   ]
  },
  {
   "cell_type": "markdown",
   "id": "261c95a7",
   "metadata": {},
   "source": [
    "# Linear Regression "
   ]
  },
  {
   "cell_type": "code",
   "execution_count": null,
   "id": "65ac6615",
   "metadata": {},
   "outputs": [],
   "source": [
    "predict, loss_history = linear_regression(X_train, y_train, lr, steps)\n"
   ]
  },
  {
   "cell_type": "markdown",
   "id": "a2c77aca",
   "metadata": {},
   "source": [
    "# Linear Regression (pytorch)"
   ]
  },
  {
   "cell_type": "code",
   "execution_count": null,
   "id": "5f37f8e9",
   "metadata": {},
   "outputs": [],
   "source": []
  }
 ],
 "metadata": {
  "kernelspec": {
   "display_name": "Python 3",
   "language": "python",
   "name": "python3"
  },
  "language_info": {
   "codemirror_mode": {
    "name": "ipython",
    "version": 3
   },
   "file_extension": ".py",
   "mimetype": "text/x-python",
   "name": "python",
   "nbconvert_exporter": "python",
   "pygments_lexer": "ipython3",
   "version": "3.8.8"
  }
 },
 "nbformat": 4,
 "nbformat_minor": 5
}
