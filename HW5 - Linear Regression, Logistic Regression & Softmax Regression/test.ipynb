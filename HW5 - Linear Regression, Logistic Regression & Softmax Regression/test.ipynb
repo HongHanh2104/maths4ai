{
 "cells": [
  {
   "cell_type": "code",
   "execution_count": 10,
   "id": "c3927411",
   "metadata": {},
   "outputs": [],
   "source": [
    "from sklearn.datasets import load_boston\n",
    "from sklearn.model_selection import train_test_split\n",
    "import numpy as np"
   ]
  },
  {
   "cell_type": "code",
   "execution_count": 2,
   "id": "2ea91cb7",
   "metadata": {},
   "outputs": [],
   "source": [
    "from linear_regression import linear_regression, normalize, lr_visualize_loss\n",
    "from linear_regression_pytorch import LinearRegression"
   ]
  },
  {
   "cell_type": "markdown",
   "id": "87c5db5c",
   "metadata": {},
   "source": [
    "# Load test data"
   ]
  },
  {
   "cell_type": "code",
   "execution_count": 3,
   "id": "c656b748",
   "metadata": {},
   "outputs": [],
   "source": [
    "data = load_boston()"
   ]
  },
  {
   "cell_type": "code",
   "execution_count": 4,
   "id": "e8d98581",
   "metadata": {},
   "outputs": [],
   "source": [
    "X_train, X_test, y_train, y_test = train_test_split(data.data, data.target, test_size=0.2)"
   ]
  },
  {
   "cell_type": "code",
   "execution_count": 5,
   "id": "e6281b9c",
   "metadata": {},
   "outputs": [
    {
     "data": {
      "text/plain": [
       "((404, 13), (404,))"
      ]
     },
     "execution_count": 5,
     "metadata": {},
     "output_type": "execute_result"
    }
   ],
   "source": [
    "X_train.shape, y_train.shape"
   ]
  },
  {
   "cell_type": "markdown",
   "id": "6a8de4b4",
   "metadata": {},
   "source": [
    "# Parameters Initialization"
   ]
  },
  {
   "cell_type": "code",
   "execution_count": 16,
   "id": "c2e1e582",
   "metadata": {},
   "outputs": [],
   "source": [
    "lr = 0.001\n",
    "steps = 1000000"
   ]
  },
  {
   "cell_type": "markdown",
   "id": "ab2ed784",
   "metadata": {},
   "source": [
    "# Linear Regression "
   ]
  },
  {
   "cell_type": "code",
   "execution_count": 12,
   "id": "92b63835",
   "metadata": {},
   "outputs": [],
   "source": [
    "def score(W, b, X, y):\n",
    "    X = normalize(X)\n",
    "    predict = X @ W + b\n",
    "    return 1 - (np.sum(((y - predict)**2))/np.sum((y - np.mean(y))**2))"
   ]
  },
  {
   "cell_type": "code",
   "execution_count": 17,
   "id": "11bcd9d9",
   "metadata": {},
   "outputs": [],
   "source": [
    "W, b, loss_history = linear_regression(X_train, y_train, lr, steps)"
   ]
  },
  {
   "cell_type": "code",
   "execution_count": 18,
   "id": "1d0efa56",
   "metadata": {},
   "outputs": [
    {
     "name": "stdout",
     "output_type": "stream",
     "text": [
      "Train score: 0.7730135569264234\n",
      "Test score: 0.5687450086990007\n"
     ]
    }
   ],
   "source": [
    "train_score = score(W, b, X_train, y_train)\n",
    "test_score = score(W, b, X_test, y_test)\n",
    "print(f'Train score: {train_score}')\n",
    "print(f'Test score: {test_score}')"
   ]
  },
  {
   "cell_type": "markdown",
   "id": "09ba264c",
   "metadata": {},
   "source": [
    "# Linear Regression (pytorch)"
   ]
  },
  {
   "cell_type": "code",
   "execution_count": null,
   "id": "87f6ab79",
   "metadata": {},
   "outputs": [],
   "source": []
  }
 ],
 "metadata": {
  "kernelspec": {
   "display_name": "Python 3",
   "language": "python",
   "name": "python3"
  },
  "language_info": {
   "codemirror_mode": {
    "name": "ipython",
    "version": 3
   },
   "file_extension": ".py",
   "mimetype": "text/x-python",
   "name": "python",
   "nbconvert_exporter": "python",
   "pygments_lexer": "ipython3",
   "version": "3.8.8"
  }
 },
 "nbformat": 4,
 "nbformat_minor": 5
}
