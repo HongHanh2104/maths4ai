{
 "cells": [
  {
   "cell_type": "code",
   "execution_count": 1,
   "id": "242d87fd",
   "metadata": {},
   "outputs": [],
   "source": [
    "from sklearn.datasets import load_breast_cancer\n",
    "from sklearn.model_selection import train_test_split\n",
    "import numpy as np\n",
    "import torch\n",
    "from torch.utils.data import TensorDataset, DataLoader"
   ]
  },
  {
   "cell_type": "code",
   "execution_count": 2,
   "id": "fca7d282",
   "metadata": {},
   "outputs": [],
   "source": [
    "from logistic_regression import logistic_regression, normalize, lor_visualize_loss\n",
    "from logistic_regression_pytorch import LogisticRegression, train, predict"
   ]
  },
  {
   "cell_type": "markdown",
   "id": "d2d51192",
   "metadata": {},
   "source": [
    "# Load dataset"
   ]
  },
  {
   "cell_type": "code",
   "execution_count": 3,
   "id": "0632d59f",
   "metadata": {},
   "outputs": [],
   "source": [
    "data = load_breast_cancer()\n",
    "X_train, X_test, y_train, y_test = train_test_split(data.data, data.target, test_size=0.2)"
   ]
  },
  {
   "cell_type": "code",
   "execution_count": 4,
   "id": "60831393",
   "metadata": {},
   "outputs": [
    {
     "data": {
      "text/plain": [
       "((455, 30), (455,))"
      ]
     },
     "execution_count": 4,
     "metadata": {},
     "output_type": "execute_result"
    }
   ],
   "source": [
    "X_train.shape, y_train.shape"
   ]
  },
  {
   "cell_type": "markdown",
   "id": "e0b5acb4",
   "metadata": {},
   "source": [
    "# Parameters Initialization"
   ]
  },
  {
   "cell_type": "code",
   "execution_count": 5,
   "id": "ed26dab1",
   "metadata": {},
   "outputs": [],
   "source": [
    "lr = 0.001\n",
    "steps = 100000"
   ]
  },
  {
   "cell_type": "markdown",
   "id": "eaaaf2b9",
   "metadata": {},
   "source": [
    "# Logistic Regression"
   ]
  },
  {
   "cell_type": "code",
   "execution_count": null,
   "id": "e38eb2ad",
   "metadata": {},
   "outputs": [],
   "source": [
    "def score(W, b, X, y):\n",
    "    X = normalize(X)\n",
    "    predict = X @ W + b\n",
    "    return 1 - (np.sum(((y - predict)**2))/np.sum((y - np.mean(y))**2))"
   ]
  }
 ],
 "metadata": {
  "kernelspec": {
   "display_name": "Python 3",
   "language": "python",
   "name": "python3"
  },
  "language_info": {
   "codemirror_mode": {
    "name": "ipython",
    "version": 3
   },
   "file_extension": ".py",
   "mimetype": "text/x-python",
   "name": "python",
   "nbconvert_exporter": "python",
   "pygments_lexer": "ipython3",
   "version": "3.8.8"
  }
 },
 "nbformat": 4,
 "nbformat_minor": 5
}
